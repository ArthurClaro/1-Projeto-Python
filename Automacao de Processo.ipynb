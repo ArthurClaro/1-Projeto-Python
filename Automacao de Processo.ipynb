{
 "cells": [
  {
   "cell_type": "markdown",
   "metadata": {},
   "source": [
    "### Passo 1 - Importar Arquivos e Bibliotecas"
   ]
  },
  {
   "cell_type": "code",
   "execution_count": null,
   "metadata": {},
   "outputs": [],
   "source": [
    "import pandas as pd\n",
    "import win32com.client as win32 \n",
    "from pathlib import Path\n",
    "\n",
    "\n",
    "\n",
    "emails= pd.read_excel (r\"C:\\Users\\01234\\Downloads\\Projeto AutomacaoIndicadores\\Projeto AutomacaoIndicadores\\Bases de Dados\\Emails.xlsx\" ) \n",
    "# display(emails)\n",
    "lojas= pd.read_csv (r\"C:\\Users\\01234\\Downloads\\Projeto AutomacaoIndicadores\\Projeto AutomacaoIndicadores\\Bases de Dados\\Lojas.csv\" ,sep=';',encoding='ISO-8859-1' ) \n",
    "# display(lojas)\n",
    "vendas= pd.read_excel (r\"C:\\Users\\01234\\Downloads\\Projeto AutomacaoIndicadores\\Projeto AutomacaoIndicadores\\Bases de Dados\\Vendas.xlsx\" ) \n",
    "# display(vendas)\n"
   ]
  },
  {
   "cell_type": "markdown",
   "metadata": {},
   "source": [
    "### Passo 2 - Definir Criar uma Tabela para cada Loja e Definir o dia do Indicador"
   ]
  },
  {
   "cell_type": "code",
   "execution_count": null,
   "metadata": {},
   "outputs": [],
   "source": [
    "#tranzendo a tabela Lojas para dentro de Vendas :\n",
    "vendas = vendas.merge(lojas, on='ID Loja')\n",
    "# display(vendas)\n"
   ]
  },
  {
   "cell_type": "code",
   "execution_count": null,
   "metadata": {},
   "outputs": [],
   "source": [
    "# Criar 1 arquivo pra cada Loja : criar 1 dataframe pra cada Loja \n",
    "# criar uma tabela pra cada Loja\n",
    "dicionario_lojas = {}\n",
    "for loja in lojas[\"Loja\"]:\n",
    "    # print(loja)\n",
    "    dicionario_lojas[loja] = vendas.loc[vendas[\"Loja\"]==loja, :]  #loc [linha,coluna]\n",
    "\n",
    "# display(dicionario_lojas[\"Iguatemi Esplanada\"])\n",
    "# display(dicionario_lojas[\"Rio Mar Recife\"])\n",
    "# dicionario_lojas"
   ]
  },
  {
   "cell_type": "code",
   "execution_count": null,
   "metadata": {},
   "outputs": [],
   "source": [
    "#pegando o Dia do Indicador :\n",
    "# vendas['Data'][-1:]\n",
    "dia_indicador = vendas[\"Data\"].max()\n",
    "print(dia_indicador)\n",
    "print('{}/{}'.format(dia_indicador.day, dia_indicador.month))"
   ]
  },
  {
   "cell_type": "markdown",
   "metadata": {},
   "source": [
    "### Passo 3 - Salvar a planilha na pasta de backup"
   ]
  },
  {
   "cell_type": "code",
   "execution_count": null,
   "metadata": {},
   "outputs": [],
   "source": [
    "#indentificar se ja existe a loja: Porque se eu receber uma nova lista, Ele não Add uma nova Pasta \n",
    "\n",
    "caminho_backup = Path(r\"C:\\Users\\01234\\Downloads\\Projeto AutomacaoIndicadores\\Projeto AutomacaoIndicadores\\Backup Arquivos Lojas\")\n",
    "\n",
    "arquivos_pasta_backup = caminho_backup.iterdir()\n",
    "# lista_nome_backup = []\n",
    "# for arquivo in arquivos_pasta_backup:\n",
    "#     lista_nome_backup.append(arquivo.name)\n",
    "lista_nome_backup = [arquivo.name for arquivo in arquivos_pasta_backup]\n",
    "# print(lista_nome_backup)\n",
    "\n",
    "for loja in dicionario_lojas:\n",
    "    if loja not in lista_nome_backup: #ou seja se não estiver no meu array\n",
    "            nova_pasta = caminho_backup / loja \n",
    "            nova_pasta.mkdir()\n",
    "\n",
    "\n",
    "    #salvar dentro da pasta\n",
    "    nome_arquivo = '{}_{}_{}.xlsx'.format(dia_indicador.month, dia_indicador.day, loja)\n",
    "    print(nome_arquivo)\n",
    "    local_arquivo =  caminho_backup /loja / nome_arquivo\n",
    "    # print(local_arquivo)\n",
    "\n",
    "    dicionario_lojas[loja].to_excel(local_arquivo)\n",
    "\n",
    "    \n"
   ]
  },
  {
   "cell_type": "markdown",
   "metadata": {},
   "source": [
    "### Passo 4 - Calcular o indicador para 1 loja"
   ]
  },
  {
   "cell_type": "code",
   "execution_count": null,
   "metadata": {},
   "outputs": [],
   "source": [
    "# definição de metas\n",
    "\n",
    "meta_faturamento_dia = 1000\n",
    "meta_faturamento_ano= 1650000\n",
    "meta_qtdeprodutos_dia =4\n",
    "meta_qtdeprodutos_ano = 120\n",
    "meta_ticketmedio_dia=500\n",
    "meta_ticketmedio_ano=500"
   ]
  },
  {
   "cell_type": "code",
   "execution_count": null,
   "metadata": {
    "scrolled": true
   },
   "outputs": [],
   "source": [
    "for loja in dicionario_lojas:\n",
    "\n",
    "# display(dicionario_lojas[loja]['Valor Final'].sum())\n",
    "   vendas_loja = dicionario_lojas[loja]\n",
    "   vendas_loja_dia = vendas_loja.loc[vendas_loja['Data']==dia_indicador , :] \n",
    "   # display(vendas_loja_dia)\n",
    "\n",
    "   # faturamento\n",
    "   faturamento_ano = vendas_loja['Valor Final'].sum()\n",
    "   # print(faturamento_ano)\n",
    "   faturamento_dia= vendas_loja_dia['Valor Final'].sum()\n",
    "   # print(faturamento_dia)\n",
    "\n",
    "   # diversidade de produtos\n",
    "   qtde_produtos_ano= len(vendas_loja['Produto'].unique())\n",
    "   # print(qtde_produtos_ano)\n",
    "\n",
    "   qtde_produtos_dia = len(vendas_loja_dia['Produto'].unique())\n",
    "   # print(qtde_produtos_dia)\n",
    "\n",
    "   # ticket medio\n",
    "   valor_venda= vendas_loja.groupby('Código Venda').sum()\n",
    "      # display(valor_venda)\n",
    "   ticket_medio_ano = valor_venda['Valor Final'].mean()\n",
    "   # print(ticket_medio_ano)\n",
    "\n",
    "   valor_venda_dia = vendas_loja_dia.groupby('Código Venda').sum()\n",
    "      # display(valor_venda_dia)\n",
    "   ticket_medio_dia = valor_venda_dia['Valor Final'].mean()\n",
    "   # print(ticket_medio_dia)\n",
    "\n",
    "# enviar email:\n",
    "\n",
    "   outlook = win32.Dispatch('outlook.application')\n",
    "   # display(emails)\n",
    "   # adad= emails.loc[emails['Loja']==loja, 'E-mail'].values[0]\n",
    "   # print(adad)\n",
    "\n",
    "\n",
    "   nome= emails.loc[emails['Loja']==loja, 'Gerente'].values[0]\n",
    "   mail = outlook.CreateItem(0) # para criar emaol \n",
    "   mail.To = emails.loc[emails['Loja']==loja, 'E-mail'].values[0]\n",
    "   mail.Subject = 'OnePage Dia {}/{} - Loja {}'.format(dia_indicador.day, dia_indicador.month,loja)\n",
    "   # mail.Body = 'Texto do E-mail'\n",
    "\n",
    "\n",
    "\n",
    "\n",
    "   if faturamento_dia >= meta_faturamento_dia:\n",
    "         cor_fat_dia = 'green'\n",
    "   else:\n",
    "         cor_fat_dia = 'red'\n",
    "   if faturamento_ano >= meta_faturamento_ano:\n",
    "         cor_fat_ano = 'green'\n",
    "   else:\n",
    "         cor_fat_ano = 'red'\n",
    "   if qtde_produtos_dia >= meta_qtdeprodutos_dia:\n",
    "         cor_qtde_dia = 'green'\n",
    "   else:\n",
    "         cor_qtde_dia = 'red'\n",
    "   if qtde_produtos_ano >= meta_qtdeprodutos_ano:\n",
    "         cor_qtde_ano = 'green'\n",
    "   else:\n",
    "         cor_qtde_ano = 'red'\n",
    "   if ticket_medio_dia >= meta_ticketmedio_dia:\n",
    "         cor_ticket_dia = 'green'\n",
    "   else:\n",
    "         cor_ticket_dia = 'red'\n",
    "   if ticket_medio_ano >= meta_ticketmedio_ano:\n",
    "         cor_ticket_ano = 'green'\n",
    "   else:\n",
    "         cor_ticket_ano = 'red'\n",
    "\n",
    "   mail.HTMLBody = f'''\n",
    "      <p>Bom dia, {nome}</p>\n",
    "\n",
    "      <p>O resultado de ontem <strong>({dia_indicador.day}/{dia_indicador.month})</strong> da <strong>Loja {loja}</strong> foi:</p>\n",
    "\n",
    "      <table>\n",
    "         <tr>\n",
    "         <th>Indicador</th>\n",
    "         <th>Valor Dia</th>\n",
    "         <th>Meta Dia</th>\n",
    "         <th>Cenário Dia</th>\n",
    "         </tr>\n",
    "         <tr>\n",
    "         <td>Faturamento</td>\n",
    "         <td style=\"text-align: center\">R${faturamento_dia:.2f}</td>\n",
    "         <td style=\"text-align: center\">R${meta_faturamento_dia:.2f}</td>\n",
    "         <td style=\"text-align: center\"><font color=\"{cor_fat_dia}\">◙</font></td>\n",
    "         </tr>\n",
    "         <tr>\n",
    "         <td>Diversidade de Produtos</td>\n",
    "         <td style=\"text-align: center\">{qtde_produtos_dia}</td>\n",
    "         <td style=\"text-align: center\">{meta_qtdeprodutos_dia}</td>\n",
    "         <td style=\"text-align: center\"><font color=\"{cor_qtde_dia}\">◙</font></td>\n",
    "         </tr>\n",
    "         <tr>\n",
    "         <td>Ticket Médio</td>\n",
    "         <td style=\"text-align: center\">R${ticket_medio_dia:.2f}</td>\n",
    "         <td style=\"text-align: center\">R${meta_ticketmedio_dia:.2f}</td>\n",
    "         <td style=\"text-align: center\"><font color=\"{cor_ticket_dia}\">◙</font></td>\n",
    "         </tr>\n",
    "      </table>\n",
    "      <br>\n",
    "      <table>\n",
    "         <tr>\n",
    "         <th>Indicador</th>\n",
    "         <th>Valor Ano</th>\n",
    "         <th>Meta Ano</th>\n",
    "         <th>Cenário Ano</th>\n",
    "         </tr>\n",
    "         <tr>\n",
    "         <td>Faturamento</td>\n",
    "         <td style=\"text-align: center\">R${faturamento_ano:.2f}</td>\n",
    "         <td style=\"text-align: center\">R${meta_faturamento_ano:.2f}</td>\n",
    "         <td style=\"text-align: center\"><font color=\"{cor_fat_ano}\">◙</font></td>\n",
    "         </tr>\n",
    "         <tr>\n",
    "         <td>Diversidade de Produtos</td>\n",
    "         <td style=\"text-align: center\">{qtde_produtos_ano}</td>\n",
    "         <td style=\"text-align: center\">{meta_qtdeprodutos_ano}</td>\n",
    "         <td style=\"text-align: center\"><font color=\"{cor_qtde_ano}\">◙</font></td>\n",
    "         </tr>\n",
    "         <tr>\n",
    "         <td>Ticket Médio</td>\n",
    "         <td style=\"text-align: center\">R${ticket_medio_ano:.2f}</td>\n",
    "         <td style=\"text-align: center\">R${meta_ticketmedio_ano:.2f}</td>\n",
    "         <td style=\"text-align: center\"><font color=\"{cor_ticket_ano}\">◙</font></td>\n",
    "         </tr>\n",
    "      </table>\n",
    "\n",
    "      <p>Segue em anexo a planilha com todos os dados para mais detalhes.</p>\n",
    "\n",
    "      <p>Qualquer dúvida estou à disposição.</p>\n",
    "      <p>Att., Arthur</p>\n",
    "      '''\n",
    "   # colocar anexos:\n",
    "   attachment = Path.cwd() / caminho_backup / loja / f'{dia_indicador.month}_{dia_indicador.day}_{loja}.xlsx'\n",
    "   print(attachment)\n",
    "   mail.Attachments.Add(str(attachment))\n",
    "\n",
    "   mail.Send()\n",
    "\n",
    "   print('E-mail da Loja {} enviado'.format(loja))"
   ]
  },
  {
   "cell_type": "markdown",
   "metadata": {},
   "source": [
    "### Passo 5 - Enviar por e-mail para o gerente"
   ]
  },
  {
   "cell_type": "markdown",
   "metadata": {},
   "source": [
    "### Passo 6 - Automatizar todas as lojas"
   ]
  },
  {
   "cell_type": "markdown",
   "metadata": {},
   "source": [
    "### Passo 7 - Criar ranking para diretoria\n",
    "#### - Ao final, sua rotina deve enviar ainda um e-mail para a diretoria (informações também estão no arquivo Emails.xlsx) com 2 rankings das lojas em anexo, 1 ranking do dia e outro ranking anual. \n",
    "#### Além disso, no corpo do e-mail, deve ressaltar qual foi a melhor e a pior loja do dia e também a melhor e pior loja do ano. O ranking de uma loja é dado pelo faturamento da loja."
   ]
  },
  {
   "cell_type": "code",
   "execution_count": null,
   "metadata": {},
   "outputs": [],
   "source": [
    "faturamento_lojas = vendas.groupby('Loja')[[\"Loja\",'Valor Final']].sum()\n",
    "faturamento_lojas_ano = faturamento_lojas.sort_values(by='Valor Final',ascending=False)\n",
    "# display(faturamento_lojas_ano)\n",
    "\n",
    "# salvando em excel O Ranking :\n",
    "nome_arquivo = '{}_{}_Ranking Anual.xlsx'.format(dia_indicador.month, dia_indicador.day)\n",
    "faturamento_lojas_ano.to_excel(r\"C:\\Users\\01234\\Downloads\\Projeto AutomacaoIndicadores\\Projeto AutomacaoIndicadores\\Backup Arquivos Lojas\\{}\".format(nome_arquivo))\n",
    "\n",
    "vendas_dia =  vendas.loc[vendas['Data']==dia_indicador , :] \n",
    "faturamento_lojas_dia= vendas_dia.groupby('Loja')[[\"Loja\",'Valor Final']].sum()\n",
    "faturamento_lojas_dia=faturamento_lojas_dia.sort_values(by='Valor Final',ascending=False)\n",
    "# display(faturamento_lojas_dia)\n",
    "\n",
    "nome_arquivo = '{}_{}_Ranking Dia.xlsx'.format(dia_indicador.month, dia_indicador.day)\n",
    "faturamento_lojas_dia.to_excel(r\"C:\\Users\\01234\\Downloads\\Projeto AutomacaoIndicadores\\Projeto AutomacaoIndicadores\\Backup Arquivos Lojas\\{}\".format(nome_arquivo))\n",
    "\n"
   ]
  },
  {
   "cell_type": "markdown",
   "metadata": {},
   "source": [
    "### Passo 8 - Enviar e-mail para diretoria"
   ]
  },
  {
   "cell_type": "code",
   "execution_count": null,
   "metadata": {},
   "outputs": [],
   "source": [
    "\n",
    "outlook = win32.Dispatch('outlook.application')\n",
    "\n",
    "mail = outlook.CreateItem(0) \n",
    "mail.To = emails.loc[emails['Loja']==\"Diretoria\", 'E-mail'].values[0]\n",
    "mail.Subject = f'Ranking Dia {dia_indicador.day}/{dia_indicador.month} '\n",
    "mail.Body = f'''\n",
    "Prezados, bom dia\n",
    "\n",
    "Melhor loja do Dia em Faturamento: Loja {faturamento_lojas_dia.index[0]} com Faturamento R${faturamento_lojas_dia.iloc[0, 0]:.2f}\n",
    "Pior loja do Dia em Faturamento: Loja {faturamento_lojas_dia.index[-1]} com Faturamento R${faturamento_lojas_dia.iloc[-1, 0]:.2f}\n",
    "\n",
    "Melhor loja do Ano em Faturamento: Loja {faturamento_lojas_ano.index[0]} com Faturamento R${faturamento_lojas_ano.iloc[0, 0]:.2f}\n",
    "Pior loja do Ano em Faturamento: Loja {faturamento_lojas_ano.index[-1]} com Faturamento R${faturamento_lojas_ano.iloc[-1, 0]:.2f}\n",
    "\n",
    "Segue em anexo os rankings do ano e do dia de todas as lojas.\n",
    "\n",
    "Qualquer dúvida estou à disposição.\n",
    "\n",
    "Att.,\n",
    "Arthur\n",
    "'''\n",
    "# colocar anexos:\n",
    "attachment = Path.cwd() / caminho_backup / f'{dia_indicador.month}_{dia_indicador.day}_Ranking Anual.xlsx'\n",
    "mail.Attachments.Add(str(attachment))\n",
    "print(str(attachment))\n",
    "attachment = Path.cwd() / caminho_backup / f'{dia_indicador.month}_{dia_indicador.day}_Ranking Dia.xlsx'\n",
    "mail.Attachments.Add(str(attachment))\n",
    "print(str(attachment))\n",
    "\n",
    "mail.Send()\n",
    "print('E-mail da Diretoria enviado')"
   ]
  }
 ],
 "metadata": {
  "kernelspec": {
   "display_name": "Python 3 (ipykernel)",
   "language": "python",
   "name": "python3"
  },
  "language_info": {
   "codemirror_mode": {
    "name": "ipython",
    "version": 3
   },
   "file_extension": ".py",
   "mimetype": "text/x-python",
   "name": "python",
   "nbconvert_exporter": "python",
   "pygments_lexer": "ipython3",
   "version": "3.9.13"
  }
 },
 "nbformat": 4,
 "nbformat_minor": 4
}
